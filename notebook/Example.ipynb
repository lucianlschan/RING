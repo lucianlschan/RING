{
 "cells": [
  {
   "cell_type": "code",
   "execution_count": 11,
   "metadata": {},
   "outputs": [],
   "source": [
    "import os,sys, inspect\n",
    "currentdir = os.path.dirname(os.path.abspath(inspect.getfile(inspect.currentframe())))\n",
    "parentdir = os.path.dirname(currentdir)\n",
    "sys.path.insert(0,parentdir) \n",
    "import numpy as np\n",
    "from rdkit import Chem\n",
    "from rdkit.Chem import AllChem\n",
    "from rdkit.Chem import rdMolAlign\n",
    "import Ring_Analysis as RA\n",
    "import Ring_Reconstruction as RR\n",
    "import py_rdl\n"
   ]
  },
  {
   "cell_type": "code",
   "execution_count": 12,
   "metadata": {},
   "outputs": [
    {
     "data": {
      "text/plain": [
       "0"
      ]
     },
     "execution_count": 12,
     "metadata": {},
     "output_type": "execute_result"
    }
   ],
   "source": [
    "# Construct a 6-membered ring--cyclohexane\n",
    "mol0 = Chem.MolFromSmiles(\"C1CCCCC1\")\n",
    "AllChem.EmbedMolecule(mol0)"
   ]
  },
  {
   "cell_type": "code",
   "execution_count": 13,
   "metadata": {},
   "outputs": [],
   "source": [
    "# Initialize bond length and bond angle\n",
    "# C-C 1.52 angstrom\n",
    "# C-C-C 1.93 radian\n",
    "bl = [1.52]*6 \n",
    "bang = [1.93]*6\n",
    "\n",
    "# RR.SetRingPuckerCoords(mol, ring atom idx, [amplitudes], [phase angles], bondlength, bondangle)\n",
    "# Example -- we fix to a chair conformation, but with different phase angle \n",
    "coord1 = RR.SetRingPuckerCoords(mol0, list(range(6)),[0.021243,0.589856], [1.959] ,  bl, bang) # chair\n",
    "coord2 = RR.SetRingPuckerCoords(mol0, list(range(6)),[0.60,0.002], [np.pi], bl, bang) # boat"
   ]
  },
  {
   "cell_type": "code",
   "execution_count": 14,
   "metadata": {},
   "outputs": [
    {
     "data": {
      "text/plain": [
       "2"
      ]
     },
     "execution_count": 14,
     "metadata": {},
     "output_type": "execute_result"
    }
   ],
   "source": [
    "for j in range(6):\n",
    "    mol0.GetConformer().SetAtomPosition(j,coord1[j])\n",
    "mol0.AddConformer(mol0.GetConformer(),assignId=1)\n",
    "\n",
    "for j in range(6):\n",
    "    mol0.GetConformer().SetAtomPosition(j,coord2[j])\n",
    "mol0.AddConformer(mol0.GetConformer(),assignId=2)\n"
   ]
  },
  {
   "cell_type": "code",
   "execution_count": 15,
   "metadata": {},
   "outputs": [
    {
     "data": {
      "text/plain": [
       "0.35170479518311837"
      ]
     },
     "execution_count": 15,
     "metadata": {},
     "output_type": "execute_result"
    }
   ],
   "source": [
    "# RMSD between boat and chair conformation\n",
    "AllChem.GetConformerRMS(mol0,1,2)"
   ]
  },
  {
   "cell_type": "code",
   "execution_count": 16,
   "metadata": {},
   "outputs": [
    {
     "name": "stdout",
     "output_type": "stream",
     "text": [
      "([0.021242999999999897, 0.589856], [1.959000000000002])\n"
     ]
    }
   ],
   "source": [
    "# Ring Conformational Anaylsis\n",
    "\n",
    "# Get Bond Set\n",
    "bonds = []\n",
    "for bond in mol0.GetBonds():\n",
    "    bonds.append((bond.GetBeginAtom().GetIdx(),bond.GetEndAtom().GetIdx()))\n",
    "\n",
    "# Apply RingDecomposerLib to compute RCs/URFs\n",
    "data = py_rdl.Calculator.get_calculated_result(bonds)\n",
    "for urf in data.urfs:\n",
    "    rcs = data.get_relevant_cycles_for_urf(urf)\n",
    "    for rc in rcs:\n",
    "        ringloop = RA.Rearrangement(mol0, list(rc.nodes)) # rearrange the ring atom order \n",
    "        coord = np.array([mol0.GetConformer(1).GetAtomPosition(atom) for atom in ringloop]) # get current ring atom coordinates\n",
    "        ccoord = RA.Translate(coord) # translate ring with origin as cetner\n",
    "        cremerpople = RA.GetRingPuckerCoords(ccoord) # get cremer-pople parameters\n",
    "\n",
    "# check if we get the same parameter as we set previously\n",
    "print(cremerpople) "
   ]
  },
  {
   "cell_type": "code",
   "execution_count": 18,
   "metadata": {},
   "outputs": [
    {
     "data": {
      "text/plain": [
       "(0.23886741752156593, -2.2538930379170905)"
      ]
     },
     "execution_count": 18,
     "metadata": {},
     "output_type": "execute_result"
    }
   ],
   "source": [
    "# Compute ring substituent position\n",
    "# Example from Manuscript (Figure 2)\n",
    "methylcyclohexane = Chem.SDMolSupplier(\"../molecule/example.sdf\")[0]\n",
    "\n",
    "# Ring Atom Index 1,2,3,4,5,6  Methyl Substituent Atom Index 0\n",
    "RA.GetRingSubstituentPosition(methylcyclohexane, [1,2,3,4,5,6], [1,0]) # methyl carbon 0 is attached to ring atom 1 "
   ]
  }
 ],
 "metadata": {
  "kernelspec": {
   "display_name": "Python 3",
   "language": "python",
   "name": "python3"
  },
  "language_info": {
   "codemirror_mode": {
    "name": "ipython",
    "version": 3
   },
   "file_extension": ".py",
   "mimetype": "text/x-python",
   "name": "python",
   "nbconvert_exporter": "python",
   "pygments_lexer": "ipython3",
   "version": "3.5.6"
  }
 },
 "nbformat": 4,
 "nbformat_minor": 2
}
